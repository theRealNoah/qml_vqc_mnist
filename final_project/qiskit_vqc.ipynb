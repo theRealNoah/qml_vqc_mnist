{
 "cells": [
  {
   "cell_type": "code",
   "execution_count": 10,
   "metadata": {},
   "outputs": [
    {
     "ename": "ImportError",
     "evalue": "cannot import name 'split_dataset_to_data_and_labels' from 'qiskit_machine_learning.utils' (/Users/hamilnj1/PycharmProjects/quantumComputation/venv/lib/python3.10/site-packages/qiskit_machine_learning/utils/__init__.py)",
     "output_type": "error",
     "traceback": [
      "\u001b[0;31m---------------------------------------------------------------------------\u001b[0m",
      "\u001b[0;31mImportError\u001b[0m                               Traceback (most recent call last)",
      "\u001b[1;32m/Users/hamilnj1/PycharmProjects/quantumComputation/final_project/qiskit_vqc.ipynb Cell 1\u001b[0m line \u001b[0;36m8\n\u001b[1;32m      <a href='vscode-notebook-cell:/Users/hamilnj1/PycharmProjects/quantumComputation/final_project/qiskit_vqc.ipynb#W1sZmlsZQ%3D%3D?line=5'>6</a>\u001b[0m \u001b[39mfrom\u001b[39;00m \u001b[39mqiskit_algorithms\u001b[39;00m\u001b[39m.\u001b[39;00m\u001b[39mutils\u001b[39;00m \u001b[39mimport\u001b[39;00m algorithm_globals\n\u001b[1;32m      <a href='vscode-notebook-cell:/Users/hamilnj1/PycharmProjects/quantumComputation/final_project/qiskit_vqc.ipynb#W1sZmlsZQ%3D%3D?line=6'>7</a>\u001b[0m \u001b[39mfrom\u001b[39;00m \u001b[39mqiskit\u001b[39;00m\u001b[39m.\u001b[39;00m\u001b[39mcircuit\u001b[39;00m\u001b[39m.\u001b[39;00m\u001b[39mlibrary\u001b[39;00m \u001b[39mimport\u001b[39;00m TwoLocal, ZZFeatureMap\n\u001b[0;32m----> <a href='vscode-notebook-cell:/Users/hamilnj1/PycharmProjects/quantumComputation/final_project/qiskit_vqc.ipynb#W1sZmlsZQ%3D%3D?line=7'>8</a>\u001b[0m \u001b[39mfrom\u001b[39;00m \u001b[39mqiskit_machine_learning\u001b[39;00m\u001b[39m.\u001b[39;00m\u001b[39mutils\u001b[39;00m \u001b[39mimport\u001b[39;00m split_dataset_to_data_and_labels, map_label_to_class_name\n\u001b[1;32m     <a href='vscode-notebook-cell:/Users/hamilnj1/PycharmProjects/quantumComputation/final_project/qiskit_vqc.ipynb#W1sZmlsZQ%3D%3D?line=9'>10</a>\u001b[0m seed \u001b[39m=\u001b[39m \u001b[39m10599\u001b[39m\n\u001b[1;32m     <a href='vscode-notebook-cell:/Users/hamilnj1/PycharmProjects/quantumComputation/final_project/qiskit_vqc.ipynb#W1sZmlsZQ%3D%3D?line=10'>11</a>\u001b[0m algorithm_globals\u001b[39m.\u001b[39mrandom_seed \u001b[39m=\u001b[39m seed\n",
      "\u001b[0;31mImportError\u001b[0m: cannot import name 'split_dataset_to_data_and_labels' from 'qiskit_machine_learning.utils' (/Users/hamilnj1/PycharmProjects/quantumComputation/venv/lib/python3.10/site-packages/qiskit_machine_learning/utils/__init__.py)"
     ]
    }
   ],
   "source": [
    "import numpy as np\n",
    "\n",
    "from qiskit import BasicAer\n",
    "from qiskit_machine_learning.algorithms import VQC\n",
    "from qiskit_algorithms.optimizers import SPSA\n",
    "from qiskit_algorithms.utils import algorithm_globals\n",
    "from qiskit.circuit.library import TwoLocal, ZZFeatureMap\n",
    "from qiskit_machine_learning.utils import split_dataset_to_data_and_labels, map_label_to_class_name\n",
    "\n",
    "seed = 10599\n",
    "algorithm_globals.random_seed = seed"
   ]
  },
  {
   "cell_type": "code",
   "execution_count": null,
   "metadata": {},
   "outputs": [],
   "source": [
    "from qiskit_machine_learning import ad_hoc_data, sample_ad_hoc_data\n",
    "\n",
    "feature_dim = 2\n",
    "sample_total, training_input, test_input, class_labels = ad_hoc_data(\n",
    "    training_size=20,\n",
    "    test_size=10,\n",
    "    n=feature_dim,\n",
    "    gap=0.3,\n",
    "    plot_data=True\n",
    ")\n",
    "extra_test_data = sample_ad_hoc_data(sample_total, 10, n=feature_dim)\n",
    "datapoints, class_to_label = split_dataset_to_data_and_labels(extra_test_data)\n",
    "print(class_to_label)"
   ]
  },
  {
   "cell_type": "code",
   "execution_count": null,
   "metadata": {},
   "outputs": [],
   "source": [
    "feature_map = ZZFeatureMap(feature_dimension=feature_dim, reps=2)\n",
    "optimizer = SPSA(maxiter=40, c0=4.0, skip_calibration=True)\n",
    "var_form = TwoLocal(feature_dim, ['ry', 'rz'], 'cz', reps=3)\n",
    "vqc = VQC(optimizer, feature_map, var_form, training_input, test_input, datapoints[0])\n",
    "\n",
    "backend = BasicAer.get_backend('qasm_simulator')\n",
    "quantum_instance = QuantumInstance(backend, shots=1024, seed_simulator=seed, seed_transpiler=seed)\n",
    "\n",
    "result = vqc.run(quantum_instance)\n",
    "\n",
    "print(f'Testing success ratio: {result[\"testing_accuracy\"]}')\n",
    "print()\n",
    "print('Prediction from datapoints set:')\n",
    "print(f'  ground truth: {map_label_to_class_name(datapoints[1], vqc.label_to_class)}')\n",
    "print(f'  prediction:   {result[\"predicted_classes\"]}')\n",
    "predicted_labels = result[\"predicted_labels\"]\n",
    "print(f'  success rate: {100*np.count_nonzero(predicted_labels == datapoints[1])/len(predicted_labels)}%')\n",
    "\n"
   ]
  },
  {
   "cell_type": "code",
   "execution_count": null,
   "metadata": {},
   "outputs": [],
   "source": [
    "more_test_data = sample_ad_hoc_data(sample_total, 10, n=feature_dim)\n",
    "more_datapoints, _ = split_dataset_to_data_and_labels(more_test_data)\n",
    "\n",
    "predicted_probabilities, predicted_labels = vqc.predict(datapoints[0])\n",
    "\n",
    "print('Prediction from more_datapoints set:')\n",
    "print(f'  ground truth: {map_label_to_class_name(more_datapoints[1], vqc.label_to_class)}')\n",
    "print(f'  prediction:   {map_label_to_class_name(predicted_labels, vqc.label_to_class)}')\n",
    "print(f'  success rate: {100*np.count_nonzero(predicted_labels == more_datapoints[1])/len(predicted_labels)}%')"
   ]
  }
 ],
 "metadata": {
  "kernelspec": {
   "display_name": "venv",
   "language": "python",
   "name": "python3"
  },
  "language_info": {
   "codemirror_mode": {
    "name": "ipython",
    "version": 3
   },
   "file_extension": ".py",
   "mimetype": "text/x-python",
   "name": "python",
   "nbconvert_exporter": "python",
   "pygments_lexer": "ipython3",
   "version": "3.10.5"
  }
 },
 "nbformat": 4,
 "nbformat_minor": 2
}
